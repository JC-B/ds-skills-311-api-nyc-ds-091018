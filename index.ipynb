{
 "cells": [
  {
   "cell_type": "markdown",
   "metadata": {},
   "source": [
    "# NYC 311 API\n",
    "\n",
    "You've gotten a chance to explore API basics through the Yelp API. In preparation for your final project, we will investigate another API from scratch. This should provide you with another familiar dataq option as well as practice for applying the same process to new unfamiliar APIs.\n",
    "\n",
    "To start, go over to the API documentation at: \n",
    "\n",
    "https://dev.socrata.com/foundry/data.cityofnewyork.us/fhrw-4uyv\n",
    "\n",
    "\n",
    "<img src=\"311_api_docs.png\">"
   ]
  },
  {
   "cell_type": "markdown",
   "metadata": {},
   "source": [
    "## Make an initial API call to retrieve 311 complaints from a neighborhood or zip code of your choice."
   ]
  },
  {
   "cell_type": "code",
   "execution_count": 9,
   "metadata": {},
   "outputs": [],
   "source": [
    "# Formulation 2\n",
    "import requests\n",
    "import pandas as pd\n",
    "\n",
    "zip_code = '11204'\n",
    "\n",
    "# can't figure out date ranges at the moment...\n",
    "start_date = '2018-01-01T12:00:00'\n",
    "end_date = '2018-02-01T12:00:00'\n",
    "\n",
    "# create pull request based on parameters\n",
    "url = \"https://data.cityofnewyork.us/resource/fhrw-4uyv.json?incident_zip={}\".format(zip_code)\n",
    "\n",
    "# do the pull\n",
    "response = requests.get(url)\n",
    "if response.status_code == 200:\n",
    "    data = response.json()\n",
    "else:\n",
    "    print('Hit an error.')"
   ]
  },
  {
   "cell_type": "code",
   "execution_count": 1,
   "metadata": {},
   "outputs": [
    {
     "name": "stdout",
     "output_type": "stream",
     "text": [
      "Collecting sodapy\n",
      "  Downloading https://files.pythonhosted.org/packages/45/bb/ca05f9ec808ea57417fccdc3e2810ca4fd08d3f85b656b398b77105fb238/sodapy-1.4.7-py2.py3-none-any.whl\n",
      "Collecting future==0.16.0 (from sodapy)\n",
      "\u001b[?25l  Downloading https://files.pythonhosted.org/packages/00/2b/8d082ddfed935f3608cc61140df6dcbf0edea1bc3ab52fb6c29ae3e81e85/future-0.16.0.tar.gz (824kB)\n",
      "\u001b[K    100% |████████████████████████████████| 829kB 17.2MB/s ta 0:00:01\n",
      "\u001b[?25hRequirement already satisfied: requests==2.19.1 in /opt/conda/envs/learn-env/lib/python3.6/site-packages (from sodapy) (2.19.1)\n",
      "Requirement already satisfied: urllib3<1.24,>=1.21.1 in /opt/conda/envs/learn-env/lib/python3.6/site-packages (from requests==2.19.1->sodapy) (1.23)\n",
      "Requirement already satisfied: chardet<3.1.0,>=3.0.2 in /opt/conda/envs/learn-env/lib/python3.6/site-packages (from requests==2.19.1->sodapy) (3.0.4)\n",
      "Requirement already satisfied: idna<2.8,>=2.5 in /opt/conda/envs/learn-env/lib/python3.6/site-packages (from requests==2.19.1->sodapy) (2.7)\n",
      "Requirement already satisfied: certifi>=2017.4.17 in /opt/conda/envs/learn-env/lib/python3.6/site-packages (from requests==2.19.1->sodapy) (2018.8.13)\n",
      "Building wheels for collected packages: future\n",
      "  Running setup.py bdist_wheel for future ... \u001b[?25ldone\n",
      "\u001b[?25h  Stored in directory: /home/beneficial-robot-4044/.cache/pip/wheels/bf/c9/a3/c538d90ef17cf7823fa51fc701a7a7a910a80f6a405bf15b1a\n",
      "Successfully built future\n",
      "Installing collected packages: future, sodapy\n",
      "Successfully installed future-0.16.0 sodapy-1.4.7\n",
      "\u001b[33mYou are using pip version 10.0.1, however version 18.1 is available.\n",
      "You should consider upgrading via the 'pip install --upgrade pip' command.\u001b[0m\n"
     ]
    }
   ],
   "source": [
    "!pip install sodapy"
   ]
  },
  {
   "cell_type": "code",
   "execution_count": 6,
   "metadata": {},
   "outputs": [],
   "source": [
    "# Formulation 1\n",
    "\n",
    "\n",
    "\n",
    "#!/usr/bin/env python\n",
    "\n",
    "# make sure to install these packages before running:\n",
    "# pip install pandas\n",
    "# pip install sodapy\n",
    "\n",
    "import pandas as pd\n",
    "from sodapy import Socrata\n",
    "\n",
    "# Unauthenticated client only works with public data sets. Note 'None'\n",
    "# in place of application token, and no username or password:\n",
    "token = 'cXpbPA67ZVuswiWwc7cKUzhGD'\n",
    "client = Socrata(\"data.cityofnewyork.us\", token)\n",
    "\n",
    "# Example authenticated client (needed for non-public datasets):\n",
    "# client = Socrata(data.cityofnewyork.us,\n",
    "#                  MyAppToken,\n",
    "#                  userame=\"user@example.com\",\n",
    "#                  password=\"AFakePassword\")\n",
    "\n",
    "# First 2000 results, returned as JSON from API / converted to Python list of\n",
    "# dictionaries by sodapy.\n",
    "results = client.get(\"fhrw-4uyv\", incident_zip = '11204', limit=2000)"
   ]
  },
  {
   "cell_type": "code",
   "execution_count": 7,
   "metadata": {},
   "outputs": [
    {
     "data": {
      "text/plain": [
       "list"
      ]
     },
     "execution_count": 7,
     "metadata": {},
     "output_type": "execute_result"
    }
   ],
   "source": [
    "type(results)"
   ]
  },
  {
   "cell_type": "code",
   "execution_count": 8,
   "metadata": {},
   "outputs": [
    {
     "data": {
      "text/plain": [
       "2000"
      ]
     },
     "execution_count": 8,
     "metadata": {},
     "output_type": "execute_result"
    }
   ],
   "source": [
    "len(results)"
   ]
  },
  {
   "cell_type": "markdown",
   "metadata": {},
   "source": [
    "## Briefly Explore the Structure of the Response You Received."
   ]
  },
  {
   "cell_type": "code",
   "execution_count": null,
   "metadata": {},
   "outputs": [],
   "source": [
    "#Your code here"
   ]
  },
  {
   "cell_type": "markdown",
   "metadata": {},
   "source": [
    "## Create a Pandas DataFrame of the Data From the Response"
   ]
  },
  {
   "cell_type": "code",
   "execution_count": null,
   "metadata": {},
   "outputs": [],
   "source": [
    "#Your code here"
   ]
  },
  {
   "cell_type": "markdown",
   "metadata": {},
   "source": [
    "## Create a Histogram of the Complaint Types From Your Dataset"
   ]
  },
  {
   "cell_type": "code",
   "execution_count": null,
   "metadata": {},
   "outputs": [],
   "source": [
    "# Your code here "
   ]
  }
 ],
 "metadata": {
  "kernelspec": {
   "display_name": "Python 3",
   "language": "python",
   "name": "python3"
  },
  "language_info": {
   "codemirror_mode": {
    "name": "ipython",
    "version": 3
   },
   "file_extension": ".py",
   "mimetype": "text/x-python",
   "name": "python",
   "nbconvert_exporter": "python",
   "pygments_lexer": "ipython3",
   "version": "3.6.6"
  }
 },
 "nbformat": 4,
 "nbformat_minor": 2
}
