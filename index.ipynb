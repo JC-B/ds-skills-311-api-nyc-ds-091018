{
 "cells": [
  {
   "cell_type": "markdown",
   "metadata": {},
   "source": [
    "# NYC 311 API\n",
    "\n",
    "You've gotten a chance to explore API basics through the Yelp API. In preparation for your final project, we will investigate another API from scratch. This should provide you with another familiar dataq option as well as practice for applying the same process to new unfamiliar APIs.\n",
    "\n",
    "To start, go over to the API documentation at: \n",
    "\n",
    "https://dev.socrata.com/foundry/data.cityofnewyork.us/fhrw-4uyv\n",
    "\n",
    "\n",
    "<img src=\"311_api_docs.png\">"
   ]
  },
  {
   "cell_type": "markdown",
   "metadata": {},
   "source": [
    "## Make an initial API call to retrieve 311 complaints from a neighborhood or zip code of your choice."
   ]
  },
  {
   "cell_type": "code",
   "execution_count": 10,
   "metadata": {},
   "outputs": [
    {
     "name": "stdout",
     "output_type": "stream",
     "text": [
      "<class 'list'>\n"
     ]
    }
   ],
   "source": [
    "# Formulation 2\n",
    "import requests\n",
    "import pandas as pd\n",
    "\n",
    "zip_code = '11204'\n",
    "\n",
    "# can't figure out date ranges at the moment...\n",
    "start_date = '2018-01-01T12:00:00'\n",
    "end_date = '2018-02-01T12:00:00'\n",
    "\n",
    "# create pull request based on parameters\n",
    "url = \"https://data.cityofnewyork.us/resource/fhrw-4uyv.json?incident_zip={}&date\".format(zip_code)\n",
    "\n",
    "# do the pull\n",
    "response = requests.get(url)\n",
    "if response.status_code == 200:\n",
    "    data = response.json()\n",
    "    print(type(data))\n",
    "else:\n",
    "    print('Hit an error.')"
   ]
  },
  {
   "cell_type": "code",
   "execution_count": 1,
   "metadata": {},
   "outputs": [
    {
     "name": "stdout",
     "output_type": "stream",
     "text": [
      "Collecting sodapy\n",
      "  Downloading https://files.pythonhosted.org/packages/45/bb/ca05f9ec808ea57417fccdc3e2810ca4fd08d3f85b656b398b77105fb238/sodapy-1.4.7-py2.py3-none-any.whl\n",
      "Collecting future==0.16.0 (from sodapy)\n",
      "\u001b[?25l  Downloading https://files.pythonhosted.org/packages/00/2b/8d082ddfed935f3608cc61140df6dcbf0edea1bc3ab52fb6c29ae3e81e85/future-0.16.0.tar.gz (824kB)\n",
      "\u001b[K    100% |████████████████████████████████| 829kB 17.2MB/s ta 0:00:01\n",
      "\u001b[?25hRequirement already satisfied: requests==2.19.1 in /opt/conda/envs/learn-env/lib/python3.6/site-packages (from sodapy) (2.19.1)\n",
      "Requirement already satisfied: urllib3<1.24,>=1.21.1 in /opt/conda/envs/learn-env/lib/python3.6/site-packages (from requests==2.19.1->sodapy) (1.23)\n",
      "Requirement already satisfied: chardet<3.1.0,>=3.0.2 in /opt/conda/envs/learn-env/lib/python3.6/site-packages (from requests==2.19.1->sodapy) (3.0.4)\n",
      "Requirement already satisfied: idna<2.8,>=2.5 in /opt/conda/envs/learn-env/lib/python3.6/site-packages (from requests==2.19.1->sodapy) (2.7)\n",
      "Requirement already satisfied: certifi>=2017.4.17 in /opt/conda/envs/learn-env/lib/python3.6/site-packages (from requests==2.19.1->sodapy) (2018.8.13)\n",
      "Building wheels for collected packages: future\n",
      "  Running setup.py bdist_wheel for future ... \u001b[?25ldone\n",
      "\u001b[?25h  Stored in directory: /home/beneficial-robot-4044/.cache/pip/wheels/bf/c9/a3/c538d90ef17cf7823fa51fc701a7a7a910a80f6a405bf15b1a\n",
      "Successfully built future\n",
      "Installing collected packages: future, sodapy\n",
      "Successfully installed future-0.16.0 sodapy-1.4.7\n",
      "\u001b[33mYou are using pip version 10.0.1, however version 18.1 is available.\n",
      "You should consider upgrading via the 'pip install --upgrade pip' command.\u001b[0m\n"
     ]
    }
   ],
   "source": [
    "!pip install sodapy"
   ]
  },
  {
   "cell_type": "code",
   "execution_count": 6,
   "metadata": {},
   "outputs": [],
   "source": [
    "# Formulation 1\n",
    "\n",
    "\n",
    "\n",
    "#!/usr/bin/env python\n",
    "\n",
    "# make sure to install these packages before running:\n",
    "# pip install pandas\n",
    "# pip install sodapy\n",
    "\n",
    "import pandas as pd\n",
    "from sodapy import Socrata\n",
    "\n",
    "# Unauthenticated client only works with public data sets. Note 'None'\n",
    "# in place of application token, and no username or password:\n",
    "token = 'cXpbPA67ZVuswiWwc7cKUzhGD'\n",
    "client = Socrata(\"data.cityofnewyork.us\", token)\n",
    "\n",
    "# Example authenticated client (needed for non-public datasets):\n",
    "# client = Socrata(data.cityofnewyork.us,\n",
    "#                  MyAppToken,\n",
    "#                  userame=\"user@example.com\",\n",
    "#                  password=\"AFakePassword\")\n",
    "\n",
    "# First 2000 results, returned as JSON from API / converted to Python list of\n",
    "# dictionaries by sodapy.\n",
    "results = client.get(\"fhrw-4uyv\", incident_zip = '11204', limit=2000)"
   ]
  },
  {
   "cell_type": "code",
   "execution_count": 7,
   "metadata": {},
   "outputs": [
    {
     "data": {
      "text/plain": [
       "list"
      ]
     },
     "execution_count": 7,
     "metadata": {},
     "output_type": "execute_result"
    }
   ],
   "source": [
    "type(results)"
   ]
  },
  {
   "cell_type": "code",
   "execution_count": 8,
   "metadata": {},
   "outputs": [
    {
     "data": {
      "text/plain": [
       "2000"
      ]
     },
     "execution_count": 8,
     "metadata": {},
     "output_type": "execute_result"
    }
   ],
   "source": [
    "len(results)"
   ]
  },
  {
   "cell_type": "code",
   "execution_count": 14,
   "metadata": {},
   "outputs": [
    {
     "data": {
      "text/plain": [
       "{'address_type': 'ADDRESS',\n",
       " 'agency': 'NYPD',\n",
       " 'agency_name': 'New York City Police Department',\n",
       " 'bbl': '3061710058',\n",
       " 'borough': 'BROOKLYN',\n",
       " 'city': 'BROOKLYN',\n",
       " 'closed_date': '2018-10-29T03:08:00.000',\n",
       " 'community_board': '11 BROOKLYN',\n",
       " 'complaint_type': 'Blocked Driveway',\n",
       " 'created_date': '2018-10-29T02:57:40.000',\n",
       " 'cross_street_1': '17 AVENUE',\n",
       " 'cross_street_2': '18 AVENUE',\n",
       " 'descriptor': 'No Access',\n",
       " 'due_date': '2018-10-29T10:57:40.000',\n",
       " 'facility_type': 'Precinct',\n",
       " 'incident_address': '1763 71 STREET',\n",
       " 'incident_zip': '11204',\n",
       " 'latitude': '40.61627769992391',\n",
       " 'location': {'type': 'Point',\n",
       "  'coordinates': [-73.994600708906, 40.616277699924]},\n",
       " 'location_type': 'Street/Sidewalk',\n",
       " 'longitude': '-73.99460070890645',\n",
       " 'open_data_channel_type': 'ONLINE',\n",
       " 'park_borough': 'BROOKLYN',\n",
       " 'park_facility_name': 'Unspecified',\n",
       " 'resolution_action_updated_date': '2018-10-29T03:08:00.000',\n",
       " 'resolution_description': 'The Police Department responded to the complaint and took action to fix the condition.',\n",
       " 'status': 'Closed',\n",
       " 'street_name': '71 STREET',\n",
       " 'unique_key': '40695291',\n",
       " 'x_coordinate_state_plane': '985749',\n",
       " 'y_coordinate_state_plane': '163803'}"
      ]
     },
     "execution_count": 14,
     "metadata": {},
     "output_type": "execute_result"
    }
   ],
   "source": [
    "results[0]"
   ]
  },
  {
   "cell_type": "markdown",
   "metadata": {},
   "source": [
    "## Briefly Explore the Structure of the Response You Received."
   ]
  },
  {
   "cell_type": "code",
   "execution_count": null,
   "metadata": {},
   "outputs": [],
   "source": [
    "#Your code here"
   ]
  },
  {
   "cell_type": "markdown",
   "metadata": {},
   "source": [
    "## Create a Pandas DataFrame of the Data From the Response"
   ]
  },
  {
   "cell_type": "code",
   "execution_count": 11,
   "metadata": {},
   "outputs": [
    {
     "name": "stdout",
     "output_type": "stream",
     "text": [
      "1000\n",
      "Index(['address_type', 'agency', 'agency_name', 'bbl', 'borough', 'city',\n",
      "       'closed_date', 'community_board', 'complaint_type', 'created_date',\n",
      "       'cross_street_1', 'cross_street_2', 'descriptor', 'due_date',\n",
      "       'facility_type', 'incident_address', 'incident_zip',\n",
      "       'intersection_street_1', 'intersection_street_2', 'latitude',\n",
      "       'location', 'location_type', 'longitude', 'open_data_channel_type',\n",
      "       'park_borough', 'park_facility_name', 'resolution_action_updated_date',\n",
      "       'resolution_description', 'status', 'street_name',\n",
      "       'taxi_pick_up_location', 'unique_key', 'x_coordinate_state_plane',\n",
      "       'y_coordinate_state_plane'],\n",
      "      dtype='object')\n"
     ]
    },
    {
     "data": {
      "text/html": [
       "<div>\n",
       "<style scoped>\n",
       "    .dataframe tbody tr th:only-of-type {\n",
       "        vertical-align: middle;\n",
       "    }\n",
       "\n",
       "    .dataframe tbody tr th {\n",
       "        vertical-align: top;\n",
       "    }\n",
       "\n",
       "    .dataframe thead th {\n",
       "        text-align: right;\n",
       "    }\n",
       "</style>\n",
       "<table border=\"1\" class=\"dataframe\">\n",
       "  <thead>\n",
       "    <tr style=\"text-align: right;\">\n",
       "      <th></th>\n",
       "      <th>address_type</th>\n",
       "      <th>agency</th>\n",
       "      <th>agency_name</th>\n",
       "      <th>bbl</th>\n",
       "      <th>borough</th>\n",
       "      <th>city</th>\n",
       "      <th>closed_date</th>\n",
       "      <th>community_board</th>\n",
       "      <th>complaint_type</th>\n",
       "      <th>created_date</th>\n",
       "      <th>...</th>\n",
       "      <th>park_borough</th>\n",
       "      <th>park_facility_name</th>\n",
       "      <th>resolution_action_updated_date</th>\n",
       "      <th>resolution_description</th>\n",
       "      <th>status</th>\n",
       "      <th>street_name</th>\n",
       "      <th>taxi_pick_up_location</th>\n",
       "      <th>unique_key</th>\n",
       "      <th>x_coordinate_state_plane</th>\n",
       "      <th>y_coordinate_state_plane</th>\n",
       "    </tr>\n",
       "  </thead>\n",
       "  <tbody>\n",
       "    <tr>\n",
       "      <th>0</th>\n",
       "      <td>ADDRESS</td>\n",
       "      <td>NYPD</td>\n",
       "      <td>New York City Police Department</td>\n",
       "      <td>3061710058</td>\n",
       "      <td>BROOKLYN</td>\n",
       "      <td>BROOKLYN</td>\n",
       "      <td>2018-10-29T03:08:00.000</td>\n",
       "      <td>11 BROOKLYN</td>\n",
       "      <td>Blocked Driveway</td>\n",
       "      <td>2018-10-29T02:57:40.000</td>\n",
       "      <td>...</td>\n",
       "      <td>BROOKLYN</td>\n",
       "      <td>Unspecified</td>\n",
       "      <td>2018-10-29T03:08:00.000</td>\n",
       "      <td>The Police Department responded to the complai...</td>\n",
       "      <td>Closed</td>\n",
       "      <td>71 STREET</td>\n",
       "      <td>NaN</td>\n",
       "      <td>40695291</td>\n",
       "      <td>985749</td>\n",
       "      <td>163803</td>\n",
       "    </tr>\n",
       "    <tr>\n",
       "      <th>1</th>\n",
       "      <td>ADDRESS</td>\n",
       "      <td>HPD</td>\n",
       "      <td>Department of Housing Preservation and Develop...</td>\n",
       "      <td>3062080044</td>\n",
       "      <td>BROOKLYN</td>\n",
       "      <td>BROOKLYN</td>\n",
       "      <td>NaN</td>\n",
       "      <td>11 BROOKLYN</td>\n",
       "      <td>WATER LEAK</td>\n",
       "      <td>2018-10-29T21:53:03.000</td>\n",
       "      <td>...</td>\n",
       "      <td>BROOKLYN</td>\n",
       "      <td>Unspecified</td>\n",
       "      <td>2018-10-29T00:00:00.000</td>\n",
       "      <td>The following complaint conditions are still o...</td>\n",
       "      <td>Open</td>\n",
       "      <td>BAY PARKWAY</td>\n",
       "      <td>NaN</td>\n",
       "      <td>40695280</td>\n",
       "      <td>987971</td>\n",
       "      <td>161112</td>\n",
       "    </tr>\n",
       "    <tr>\n",
       "      <th>2</th>\n",
       "      <td>ADDRESS</td>\n",
       "      <td>HPD</td>\n",
       "      <td>Department of Housing Preservation and Develop...</td>\n",
       "      <td>3062080044</td>\n",
       "      <td>BROOKLYN</td>\n",
       "      <td>BROOKLYN</td>\n",
       "      <td>NaN</td>\n",
       "      <td>11 BROOKLYN</td>\n",
       "      <td>UNSANITARY CONDITION</td>\n",
       "      <td>2018-10-29T21:53:02.000</td>\n",
       "      <td>...</td>\n",
       "      <td>BROOKLYN</td>\n",
       "      <td>Unspecified</td>\n",
       "      <td>2018-10-29T00:00:00.000</td>\n",
       "      <td>The following complaint conditions are still o...</td>\n",
       "      <td>Open</td>\n",
       "      <td>BAY PARKWAY</td>\n",
       "      <td>NaN</td>\n",
       "      <td>40695270</td>\n",
       "      <td>987971</td>\n",
       "      <td>161112</td>\n",
       "    </tr>\n",
       "    <tr>\n",
       "      <th>3</th>\n",
       "      <td>ADDRESS</td>\n",
       "      <td>HPD</td>\n",
       "      <td>Department of Housing Preservation and Develop...</td>\n",
       "      <td>3065950001</td>\n",
       "      <td>BROOKLYN</td>\n",
       "      <td>BROOKLYN</td>\n",
       "      <td>NaN</td>\n",
       "      <td>11 BROOKLYN</td>\n",
       "      <td>UNSANITARY CONDITION</td>\n",
       "      <td>2018-10-29T12:27:25.000</td>\n",
       "      <td>...</td>\n",
       "      <td>BROOKLYN</td>\n",
       "      <td>Unspecified</td>\n",
       "      <td>2018-10-29T00:00:00.000</td>\n",
       "      <td>The following complaint conditions are still o...</td>\n",
       "      <td>Open</td>\n",
       "      <td>BAY PARKWAY</td>\n",
       "      <td>NaN</td>\n",
       "      <td>40695114</td>\n",
       "      <td>988219</td>\n",
       "      <td>161415</td>\n",
       "    </tr>\n",
       "    <tr>\n",
       "      <th>4</th>\n",
       "      <td>ADDRESS</td>\n",
       "      <td>NYPD</td>\n",
       "      <td>New York City Police Department</td>\n",
       "      <td>3055120067</td>\n",
       "      <td>BROOKLYN</td>\n",
       "      <td>BROOKLYN</td>\n",
       "      <td>2018-10-30T02:19:06.000</td>\n",
       "      <td>12 BROOKLYN</td>\n",
       "      <td>Blocked Driveway</td>\n",
       "      <td>2018-10-29T16:30:56.000</td>\n",
       "      <td>...</td>\n",
       "      <td>BROOKLYN</td>\n",
       "      <td>Unspecified</td>\n",
       "      <td>2018-10-29T16:57:52.000</td>\n",
       "      <td>The Police Department responded to the complai...</td>\n",
       "      <td>Closed</td>\n",
       "      <td>60 STREET</td>\n",
       "      <td>NaN</td>\n",
       "      <td>40695369</td>\n",
       "      <td>987975</td>\n",
       "      <td>165752</td>\n",
       "    </tr>\n",
       "  </tbody>\n",
       "</table>\n",
       "<p>5 rows × 34 columns</p>\n",
       "</div>"
      ],
      "text/plain": [
       "  address_type agency                                        agency_name  \\\n",
       "0      ADDRESS   NYPD                    New York City Police Department   \n",
       "1      ADDRESS    HPD  Department of Housing Preservation and Develop...   \n",
       "2      ADDRESS    HPD  Department of Housing Preservation and Develop...   \n",
       "3      ADDRESS    HPD  Department of Housing Preservation and Develop...   \n",
       "4      ADDRESS   NYPD                    New York City Police Department   \n",
       "\n",
       "          bbl   borough      city              closed_date community_board  \\\n",
       "0  3061710058  BROOKLYN  BROOKLYN  2018-10-29T03:08:00.000     11 BROOKLYN   \n",
       "1  3062080044  BROOKLYN  BROOKLYN                      NaN     11 BROOKLYN   \n",
       "2  3062080044  BROOKLYN  BROOKLYN                      NaN     11 BROOKLYN   \n",
       "3  3065950001  BROOKLYN  BROOKLYN                      NaN     11 BROOKLYN   \n",
       "4  3055120067  BROOKLYN  BROOKLYN  2018-10-30T02:19:06.000     12 BROOKLYN   \n",
       "\n",
       "         complaint_type             created_date           ...             \\\n",
       "0      Blocked Driveway  2018-10-29T02:57:40.000           ...              \n",
       "1            WATER LEAK  2018-10-29T21:53:03.000           ...              \n",
       "2  UNSANITARY CONDITION  2018-10-29T21:53:02.000           ...              \n",
       "3  UNSANITARY CONDITION  2018-10-29T12:27:25.000           ...              \n",
       "4      Blocked Driveway  2018-10-29T16:30:56.000           ...              \n",
       "\n",
       "  park_borough park_facility_name resolution_action_updated_date  \\\n",
       "0     BROOKLYN        Unspecified        2018-10-29T03:08:00.000   \n",
       "1     BROOKLYN        Unspecified        2018-10-29T00:00:00.000   \n",
       "2     BROOKLYN        Unspecified        2018-10-29T00:00:00.000   \n",
       "3     BROOKLYN        Unspecified        2018-10-29T00:00:00.000   \n",
       "4     BROOKLYN        Unspecified        2018-10-29T16:57:52.000   \n",
       "\n",
       "                              resolution_description  status  street_name  \\\n",
       "0  The Police Department responded to the complai...  Closed    71 STREET   \n",
       "1  The following complaint conditions are still o...    Open  BAY PARKWAY   \n",
       "2  The following complaint conditions are still o...    Open  BAY PARKWAY   \n",
       "3  The following complaint conditions are still o...    Open  BAY PARKWAY   \n",
       "4  The Police Department responded to the complai...  Closed    60 STREET   \n",
       "\n",
       "  taxi_pick_up_location unique_key x_coordinate_state_plane  \\\n",
       "0                   NaN   40695291                   985749   \n",
       "1                   NaN   40695280                   987971   \n",
       "2                   NaN   40695270                   987971   \n",
       "3                   NaN   40695114                   988219   \n",
       "4                   NaN   40695369                   987975   \n",
       "\n",
       "  y_coordinate_state_plane  \n",
       "0                   163803  \n",
       "1                   161112  \n",
       "2                   161112  \n",
       "3                   161415  \n",
       "4                   165752  \n",
       "\n",
       "[5 rows x 34 columns]"
      ]
     },
     "execution_count": 11,
     "metadata": {},
     "output_type": "execute_result"
    }
   ],
   "source": [
    "# Formulation 2 \n",
    "df = pd.DataFrame(data)\n",
    "\n",
    "print(len(df))\n",
    "print(df.columns)\n",
    "df.head()"
   ]
  },
  {
   "cell_type": "markdown",
   "metadata": {},
   "source": [
    "## Create a Histogram of the Complaint Types From Your Dataset"
   ]
  },
  {
   "cell_type": "code",
   "execution_count": 12,
   "metadata": {},
   "outputs": [],
   "source": [
    "import matplotlib.pyplot as plt\n",
    "%matplotlib inline"
   ]
  },
  {
   "cell_type": "code",
   "execution_count": 13,
   "metadata": {},
   "outputs": [
    {
     "data": {
      "text/plain": [
       "<matplotlib.axes._subplots.AxesSubplot at 0x7fb8415a4128>"
      ]
     },
     "execution_count": 13,
     "metadata": {},
     "output_type": "execute_result"
    },
    {
     "data": {
      "image/png": "[encoded data removed]",
      "text/plain": [
       "<Figure size 576x864 with 1 Axes>"
      ]
     },
     "metadata": {
      "needs_background": "light"
     },
     "output_type": "display_data"
    }
   ],
   "source": [
    "df.complaint_type.value_counts().plot(kind='barh', figsize=(8,12))"
   ]
  },
  {
   "cell_type": "code",
   "execution_count": null,
   "metadata": {},
   "outputs": [],
   "source": []
  }
 ],
 "metadata": {
  "kernelspec": {
   "display_name": "Python 3",
   "language": "python",
   "name": "python3"
  },
  "language_info": {
   "codemirror_mode": {
    "name": "ipython",
    "version": 3
   },
   "file_extension": ".py",
   "mimetype": "text/x-python",
   "name": "python",
   "nbconvert_exporter": "python",
   "pygments_lexer": "ipython3",
   "version": "3.6.6"
  }
 },
 "nbformat": 4,
 "nbformat_minor": 2
}
